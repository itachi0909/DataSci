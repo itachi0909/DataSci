{
 "cells": [
  {
   "cell_type": "markdown",
   "metadata": {
    "colab_type": "text",
    "id": "fYBpdKBDQs74"
   },
   "source": [
    "# NumPy Exercises \n",
    "\n",
    "Now that we've learned about NumPy let's test your knowledge."
   ]
  },
  {
   "cell_type": "markdown",
   "metadata": {},
   "source": [
    "**Exercise 1:** Import numpy"
   ]
  },
  {
   "cell_type": "code",
   "execution_count": null,
   "metadata": {},
   "outputs": [],
   "source": []
  },
  {
   "cell_type": "markdown",
   "metadata": {
    "colab_type": "text",
    "id": "9yJQnCDKQs7-"
   },
   "source": [
    "**Exercise 2:** Create an array of 10 zeros \n",
    "```\n",
    "array([ 0.,  0.,  0.,  0.,  0.,  0.,  0.,  0.,  0.,  0.])\n",
    "```"
   ]
  },
  {
   "cell_type": "code",
   "execution_count": null,
   "metadata": {},
   "outputs": [],
   "source": []
  },
  {
   "cell_type": "markdown",
   "metadata": {
    "colab_type": "text",
    "id": "8AF89segQs8F"
   },
   "source": [
    "**Exercise 3:** Create an array of 10 ones and the fifth value which is 0.\n",
    "```\n",
    "array([ 1.,  1.,  1.,  1.,  0.,  1.,  1.,  1.,  1.,  1.])\n",
    "```"
   ]
  },
  {
   "cell_type": "code",
   "execution_count": null,
   "metadata": {},
   "outputs": [],
   "source": []
  },
  {
   "cell_type": "markdown",
   "metadata": {
    "colab_type": "text",
    "id": "8klzoBXGQs8J"
   },
   "source": [
    "**Exercise 4:** Create an array of 10 fives\n",
    "\n",
    "```\n",
    "array([ 5.,  5.,  5.,  5.,  5.,  5.,  5.,  5.,  5.,  5.])\n",
    "```"
   ]
  },
  {
   "cell_type": "code",
   "execution_count": null,
   "metadata": {},
   "outputs": [],
   "source": []
  },
  {
   "cell_type": "markdown",
   "metadata": {
    "colab_type": "text",
    "id": "tWTxwWOuQs8N"
   },
   "source": [
    "**Exercise 5:** Create an array of the integers from 10 to 50\n",
    "\n",
    "```\n",
    "array([10, 11, 12, 13, 14, 15, 16, 17, 18, 19, 20, 21, 22, 23, 24, 25, 26,\n",
    "       27, 28, 29, 30, 31, 32, 33, 34, 35, 36, 37, 38, 39, 40, 41, 42, 43,\n",
    "       44, 45, 46, 47, 48, 49, 50])\n",
    "```"
   ]
  },
  {
   "cell_type": "code",
   "execution_count": null,
   "metadata": {},
   "outputs": [],
   "source": []
  },
  {
   "cell_type": "markdown",
   "metadata": {
    "colab_type": "text",
    "id": "bNKcuJdqQs8R"
   },
   "source": [
    "**Exercise 6:** Create an array of all the even integers from 10 to 50\n",
    "\n",
    "```\n",
    "array([10, 12, 14, 16, 18, 20, 22, 24, 26, 28, 30, 32, 34, 36, 38, 40, 42,\n",
    "       44, 46, 48, 50])\n",
    "```"
   ]
  },
  {
   "cell_type": "code",
   "execution_count": null,
   "metadata": {},
   "outputs": [],
   "source": []
  },
  {
   "cell_type": "markdown",
   "metadata": {
    "colab_type": "text",
    "id": "bzGvmjf0Qs8V"
   },
   "source": [
    "**Exercise 7:** Create a 3x3 matrix with values ranging from 0 to 8.\n",
    "\n",
    "```\n",
    "array([[0, 1, 2],\n",
    "       [3, 4, 5],\n",
    "       [6, 7, 8]])\n",
    "```"
   ]
  },
  {
   "cell_type": "code",
   "execution_count": null,
   "metadata": {},
   "outputs": [],
   "source": []
  },
  {
   "cell_type": "markdown",
   "metadata": {
    "colab_type": "text",
    "id": "mUIh9_B-Qs8b"
   },
   "source": [
    "**Exercise 8:** Create a 3x3 identity matrix\n",
    "\n",
    "```\n",
    "array([[ 1.,  0.,  0.],\n",
    "       [ 0.,  1.,  0.],\n",
    "       [ 0.,  0.,  1.]])\n",
    "```"
   ]
  },
  {
   "cell_type": "code",
   "execution_count": null,
   "metadata": {},
   "outputs": [],
   "source": []
  },
  {
   "cell_type": "markdown",
   "metadata": {
    "colab_type": "text",
    "id": "zJuA3y2jQs8h"
   },
   "source": [
    "**Exercise 9:** Use NumPy to generate a random number between 0 and 1"
   ]
  },
  {
   "cell_type": "code",
   "execution_count": null,
   "metadata": {},
   "outputs": [],
   "source": []
  },
  {
   "cell_type": "markdown",
   "metadata": {
    "colab_type": "text",
    "id": "lxF4gquUQs8m"
   },
   "source": [
    "**Exercise 10:** Use NumPy to generate an array of 25 random numbers sampled from a standard normal distribution\n",
    "```\n",
    "array([ 1.32031013,  1.6798602 , -0.42985892, -1.53116655,  0.85753232,\n",
    "        0.87339938,  0.35668636, -1.47491157,  0.15349697,  0.99530727,\n",
    "       -0.94865451, -1.69174783,  1.57525349, -0.70615234,  0.10991879,\n",
    "       -0.49478947,  1.08279872,  0.76488333, -2.3039931 ,  0.35401124,\n",
    "       -0.45454399, -0.64754649, -0.29391671,  0.02339861,  0.38272124])\n",
    "```"
   ]
  },
  {
   "cell_type": "code",
   "execution_count": null,
   "metadata": {},
   "outputs": [],
   "source": []
  },
  {
   "cell_type": "markdown",
   "metadata": {
    "colab_type": "text",
    "id": "uCcDtdZTQs8p"
   },
   "source": [
    "**Exercise 11:** Create the following matrix:\n",
    "\n",
    "```\n",
    "array([[ 0.01,  0.02,  0.03,  0.04,  0.05,  0.06,  0.07,  0.08,  0.09,  0.1 ],\n",
    "       [ 0.11,  0.12,  0.13,  0.14,  0.15,  0.16,  0.17,  0.18,  0.19,  0.2 ],\n",
    "       [ 0.21,  0.22,  0.23,  0.24,  0.25,  0.26,  0.27,  0.28,  0.29,  0.3 ],\n",
    "       [ 0.31,  0.32,  0.33,  0.34,  0.35,  0.36,  0.37,  0.38,  0.39,  0.4 ],\n",
    "       [ 0.41,  0.42,  0.43,  0.44,  0.45,  0.46,  0.47,  0.48,  0.49,  0.5 ],\n",
    "       [ 0.51,  0.52,  0.53,  0.54,  0.55,  0.56,  0.57,  0.58,  0.59,  0.6 ],\n",
    "       [ 0.61,  0.62,  0.63,  0.64,  0.65,  0.66,  0.67,  0.68,  0.69,  0.7 ],\n",
    "       [ 0.71,  0.72,  0.73,  0.74,  0.75,  0.76,  0.77,  0.78,  0.79,  0.8 ],\n",
    "       [ 0.81,  0.82,  0.83,  0.84,  0.85,  0.86,  0.87,  0.88,  0.89,  0.9 ],\n",
    "       [ 0.91,  0.92,  0.93,  0.94,  0.95,  0.96,  0.97,  0.98,  0.99,  1.  ]])\n",
    "```"
   ]
  },
  {
   "cell_type": "code",
   "execution_count": null,
   "metadata": {},
   "outputs": [],
   "source": []
  },
  {
   "cell_type": "markdown",
   "metadata": {
    "colab_type": "text",
    "id": "HgE55GABQs8u"
   },
   "source": [
    "**Exercise 12:** Create an array of 20 linearly spaced points between 0 and 1\n",
    "\n",
    "```\n",
    "array([ 0.        ,  0.05263158,  0.10526316,  0.15789474,  0.21052632,\n",
    "        0.26315789,  0.31578947,  0.36842105,  0.42105263,  0.47368421,\n",
    "        0.52631579,  0.57894737,  0.63157895,  0.68421053,  0.73684211,\n",
    "        0.78947368,  0.84210526,  0.89473684,  0.94736842,  1.        ])\n",
    "```"
   ]
  },
  {
   "cell_type": "code",
   "execution_count": null,
   "metadata": {},
   "outputs": [],
   "source": []
  },
  {
   "cell_type": "markdown",
   "metadata": {
    "colab_type": "text",
    "id": "KGFiuH46Qs8z"
   },
   "source": [
    "## Numpy Indexing and Selection\n",
    "\n",
    "Now you will be given a few matrices, and be asked to replicate the resulting matrix outputs:"
   ]
  },
  {
   "cell_type": "markdown",
   "metadata": {
    "colab": {},
    "colab_type": "code",
    "id": "R6dlKXw2Qs80"
   },
   "source": [
    "**Exercise 13:** Write the code that reproduces the output below and save it in **mat** variable\n",
    "```\n",
    "array([[ 1,  2,  3,  4,  5],\n",
    "       [ 6,  7,  8,  9, 10],\n",
    "       [11, 12, 13, 14, 15],\n",
    "       [16, 17, 18, 19, 20],\n",
    "       [21, 22, 23, 24, 25]])\n",
    "```"
   ]
  },
  {
   "cell_type": "markdown",
   "metadata": {},
   "source": [
    "```{note}\n",
    "Use **mat** array for all the questions till **exercise 21**. \n",
    "```"
   ]
  },
  {
   "cell_type": "markdown",
   "metadata": {
    "colab": {},
    "colab_type": "code",
    "id": "3aBdHaitQs86"
   },
   "source": [
    "**Exercise 14:** Select the subset below\n",
    "```\n",
    "array([[12, 13, 14, 15],\n",
    "       [17, 18, 19, 20],\n",
    "       [22, 23, 24, 25]])\n",
    "```"
   ]
  },
  {
   "cell_type": "markdown",
   "metadata": {
    "colab": {},
    "colab_type": "code",
    "id": "t9e2xH3CQs9B"
   },
   "source": [
    "**Exercise 15:** Select the value **20** from *mat*"
   ]
  },
  {
   "cell_type": "markdown",
   "metadata": {},
   "source": [
    "**Exercise 16:** Select the subset below\n",
    "```\n",
    "array([[ 2],\n",
    "       [ 7],\n",
    "       [12]])\n",
    "```"
   ]
  },
  {
   "cell_type": "markdown",
   "metadata": {
    "colab": {},
    "colab_type": "code",
    "id": "xv0LRwC0Qs9O"
   },
   "source": [
    "**Exercise 17:** Select the subset below\n",
    "```\n",
    "array([21, 22, 23, 24, 25])\n",
    "```"
   ]
  },
  {
   "cell_type": "markdown",
   "metadata": {
    "colab": {},
    "colab_type": "code",
    "id": "xv0LRwC0Qs9O"
   },
   "source": [
    "**Exercise 18:** Select the subset below\n",
    "```\n",
    "array([[16, 17, 18, 19, 20],\n",
    "       [21, 22, 23, 24, 25]])\n",
    "```"
   ]
  },
  {
   "cell_type": "markdown",
   "metadata": {
    "colab_type": "text",
    "id": "rXMEEHTfQs9e"
   },
   "source": [
    "**Exercise 19:** Get the sum of all the values in *mat*. *Expected Output:* 325"
   ]
  },
  {
   "cell_type": "markdown",
   "metadata": {
    "colab_type": "text",
    "id": "74lb13YsQs9k"
   },
   "source": [
    "**Exercise 20:** Get the standard deviation of the values in *mat*. *Expected Output:* 7.2111025509279782"
   ]
  },
  {
   "cell_type": "markdown",
   "metadata": {
    "colab_type": "text",
    "id": "6SEFbGFtQs9o"
   },
   "source": [
    "**Exercise 21:** Get the sum of all the columns in *mat*. *Expected Output:* \n",
    "```\n",
    "array([55, 60, 65, 70, 75])\n",
    "```"
   ]
  },
  {
   "cell_type": "markdown",
   "metadata": {},
   "source": [
    "## Advanced questions "
   ]
  },
  {
   "cell_type": "markdown",
   "metadata": {},
   "source": [
    "**Exercise 22**: Reverse a numy array (first element becomes last)."
   ]
  },
  {
   "cell_type": "markdown",
   "metadata": {},
   "source": [
    "**Exercise 23**: Find indices of non-zero elements from [10,20,0,0,40,0]"
   ]
  },
  {
   "cell_type": "markdown",
   "metadata": {},
   "source": [
    "**Exercise 24**: Create a 10x10 array with random values and find the minimum and maximum values"
   ]
  },
  {
   "cell_type": "markdown",
   "metadata": {},
   "source": [
    "**Exercise 25**: Create a 10X10 array with 1 on the border and 0 inside"
   ]
  },
  {
   "cell_type": "markdown",
   "metadata": {},
   "source": [
    "**Exercise 26**: Create a 8x8 array and fill it with a checkerboard pattern"
   ]
  },
  {
   "cell_type": "markdown",
   "metadata": {},
   "source": [
    "**Exercise 27**: Create a numpy array of size 10 with values ranging from 0 to 1, both excluded"
   ]
  },
  {
   "cell_type": "markdown",
   "metadata": {},
   "source": [
    "**Exercise 28**:. Create a random array of size 10 and sort it"
   ]
  },
  {
   "cell_type": "markdown",
   "metadata": {},
   "source": [
    "**Exercise 29**: Create random array of size 10 and replace the maximum value by 0"
   ]
  },
  {
   "cell_type": "markdown",
   "metadata": {},
   "source": [
    "**Exercise 30**: What is the equivalent of enumerate for numpy arrays?"
   ]
  },
  {
   "cell_type": "markdown",
   "metadata": {},
   "source": [
    "**Exercise 31**: How to swap two rows of an array?"
   ]
  },
  {
   "cell_type": "markdown",
   "metadata": {},
   "source": [
    "**Exercise 32**: How to find the most frequent value in an array?"
   ]
  },
  {
   "cell_type": "markdown",
   "metadata": {},
   "source": [
    "```{note}\n",
    "You can discuss your answers with your mentor. Let's go [back](../course_material/02_numpy.html#conclusion) to our Numpy chapter and resume the course.\n",
    "```"
   ]
  }
 ],
 "metadata": {
  "colab": {
   "collapsed_sections": [],
   "name": "Numpy Exercise .ipynb",
   "provenance": [],
   "version": "0.3.2"
  },
  "kernelspec": {
   "display_name": "Python 3 (ipykernel)",
   "language": "python",
   "name": "python3"
  },
  "language_info": {
   "codemirror_mode": {
    "name": "ipython",
    "version": 3
   },
   "file_extension": ".py",
   "mimetype": "text/x-python",
   "name": "python",
   "nbconvert_exporter": "python",
   "pygments_lexer": "ipython3",
   "version": "3.11.5"
  }
 },
 "nbformat": 4,
 "nbformat_minor": 4
}
